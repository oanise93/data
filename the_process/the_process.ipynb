{
 "cells": [
  {
   "cell_type": "code",
   "execution_count": 51,
   "metadata": {
    "collapsed": true
   },
   "outputs": [],
   "source": [
    "%matplotlib inline"
   ]
  },
  {
   "cell_type": "code",
   "execution_count": 52,
   "metadata": {
    "collapsed": true
   },
   "outputs": [],
   "source": [
    "import pandas as pd\n",
    "import numpy as np\n",
    "import matplotlib.pyplot as plt"
   ]
  },
  {
   "cell_type": "code",
   "execution_count": 53,
   "metadata": {
    "collapsed": true
   },
   "outputs": [],
   "source": [
    "import seaborn as sns\n",
    "sns.set(color_codes=True)"
   ]
  },
  {
   "cell_type": "code",
   "execution_count": 54,
   "metadata": {
    "collapsed": false
   },
   "outputs": [
    {
     "data": {
      "text/html": [
       "<div>\n",
       "<table border=\"1\" class=\"dataframe\">\n",
       "  <thead>\n",
       "    <tr style=\"text-align: right;\">\n",
       "      <th></th>\n",
       "      <th>draft_year</th>\n",
       "      <th>pick</th>\n",
       "      <th>team</th>\n",
       "      <th>player</th>\n",
       "      <th>college</th>\n",
       "      <th>years</th>\n",
       "      <th>gp</th>\n",
       "      <th>mp</th>\n",
       "      <th>pts</th>\n",
       "      <th>trb</th>\n",
       "      <th>...</th>\n",
       "      <th>apg</th>\n",
       "      <th>ws</th>\n",
       "      <th>ws_58</th>\n",
       "      <th>bpm</th>\n",
       "      <th>vorp</th>\n",
       "      <th>all_stars</th>\n",
       "      <th>all_nba_1</th>\n",
       "      <th>all_nba_2</th>\n",
       "      <th>all_nba_3</th>\n",
       "      <th>mvp_candidacy</th>\n",
       "    </tr>\n",
       "  </thead>\n",
       "  <tbody>\n",
       "    <tr>\n",
       "      <th>0</th>\n",
       "      <td>1990</td>\n",
       "      <td>1</td>\n",
       "      <td>NJN</td>\n",
       "      <td>Derrick Coleman</td>\n",
       "      <td>Syracuse University</td>\n",
       "      <td>15.0</td>\n",
       "      <td>781.0</td>\n",
       "      <td>25903.0</td>\n",
       "      <td>12884.0</td>\n",
       "      <td>7232.0</td>\n",
       "      <td>...</td>\n",
       "      <td>2.5</td>\n",
       "      <td>64.3</td>\n",
       "      <td>0.119</td>\n",
       "      <td>1.3</td>\n",
       "      <td>21.7</td>\n",
       "      <td>1</td>\n",
       "      <td>0</td>\n",
       "      <td>0</td>\n",
       "      <td>2</td>\n",
       "      <td>0</td>\n",
       "    </tr>\n",
       "    <tr>\n",
       "      <th>1</th>\n",
       "      <td>1990</td>\n",
       "      <td>2</td>\n",
       "      <td>SEA</td>\n",
       "      <td>Gary Payton</td>\n",
       "      <td>Oregon State University</td>\n",
       "      <td>17.0</td>\n",
       "      <td>1335.0</td>\n",
       "      <td>47117.0</td>\n",
       "      <td>21813.0</td>\n",
       "      <td>5269.0</td>\n",
       "      <td>...</td>\n",
       "      <td>6.7</td>\n",
       "      <td>145.5</td>\n",
       "      <td>0.148</td>\n",
       "      <td>3.3</td>\n",
       "      <td>63.0</td>\n",
       "      <td>9</td>\n",
       "      <td>2</td>\n",
       "      <td>5</td>\n",
       "      <td>2</td>\n",
       "      <td>1</td>\n",
       "    </tr>\n",
       "    <tr>\n",
       "      <th>2</th>\n",
       "      <td>1990</td>\n",
       "      <td>3</td>\n",
       "      <td>DEN</td>\n",
       "      <td>Mahmoud Abdul-Rauf</td>\n",
       "      <td>Louisiana State University</td>\n",
       "      <td>9.0</td>\n",
       "      <td>586.0</td>\n",
       "      <td>15628.0</td>\n",
       "      <td>8553.0</td>\n",
       "      <td>1087.0</td>\n",
       "      <td>...</td>\n",
       "      <td>3.5</td>\n",
       "      <td>25.2</td>\n",
       "      <td>0.077</td>\n",
       "      <td>-2.2</td>\n",
       "      <td>-0.7</td>\n",
       "      <td>0</td>\n",
       "      <td>0</td>\n",
       "      <td>0</td>\n",
       "      <td>0</td>\n",
       "      <td>0</td>\n",
       "    </tr>\n",
       "    <tr>\n",
       "      <th>3</th>\n",
       "      <td>1990</td>\n",
       "      <td>4</td>\n",
       "      <td>ORL</td>\n",
       "      <td>Dennis Scott</td>\n",
       "      <td>Georgia Institute of Technology</td>\n",
       "      <td>10.0</td>\n",
       "      <td>629.0</td>\n",
       "      <td>17983.0</td>\n",
       "      <td>8094.0</td>\n",
       "      <td>1774.0</td>\n",
       "      <td>...</td>\n",
       "      <td>2.1</td>\n",
       "      <td>33.4</td>\n",
       "      <td>0.089</td>\n",
       "      <td>-0.4</td>\n",
       "      <td>7.3</td>\n",
       "      <td>0</td>\n",
       "      <td>0</td>\n",
       "      <td>0</td>\n",
       "      <td>0</td>\n",
       "      <td>0</td>\n",
       "    </tr>\n",
       "    <tr>\n",
       "      <th>4</th>\n",
       "      <td>1990</td>\n",
       "      <td>5</td>\n",
       "      <td>CHH</td>\n",
       "      <td>Kendall Gill</td>\n",
       "      <td>University of Illinois at Urbana-Champaign</td>\n",
       "      <td>15.0</td>\n",
       "      <td>966.0</td>\n",
       "      <td>29481.0</td>\n",
       "      <td>12914.0</td>\n",
       "      <td>4002.0</td>\n",
       "      <td>...</td>\n",
       "      <td>3.0</td>\n",
       "      <td>47.8</td>\n",
       "      <td>0.078</td>\n",
       "      <td>0.3</td>\n",
       "      <td>16.9</td>\n",
       "      <td>0</td>\n",
       "      <td>0</td>\n",
       "      <td>0</td>\n",
       "      <td>0</td>\n",
       "      <td>0</td>\n",
       "    </tr>\n",
       "  </tbody>\n",
       "</table>\n",
       "<p>5 rows × 27 columns</p>\n",
       "</div>"
      ],
      "text/plain": [
       "   draft_year  pick team              player  \\\n",
       "0        1990     1  NJN     Derrick Coleman   \n",
       "1        1990     2  SEA         Gary Payton   \n",
       "2        1990     3  DEN  Mahmoud Abdul-Rauf   \n",
       "3        1990     4  ORL        Dennis Scott   \n",
       "4        1990     5  CHH        Kendall Gill   \n",
       "\n",
       "                                      college  years      gp       mp  \\\n",
       "0                         Syracuse University   15.0   781.0  25903.0   \n",
       "1                     Oregon State University   17.0  1335.0  47117.0   \n",
       "2                  Louisiana State University    9.0   586.0  15628.0   \n",
       "3             Georgia Institute of Technology   10.0   629.0  17983.0   \n",
       "4  University of Illinois at Urbana-Champaign   15.0   966.0  29481.0   \n",
       "\n",
       "       pts     trb      ...        apg     ws  ws_58  bpm  vorp  all_stars  \\\n",
       "0  12884.0  7232.0      ...        2.5   64.3  0.119  1.3  21.7          1   \n",
       "1  21813.0  5269.0      ...        6.7  145.5  0.148  3.3  63.0          9   \n",
       "2   8553.0  1087.0      ...        3.5   25.2  0.077 -2.2  -0.7          0   \n",
       "3   8094.0  1774.0      ...        2.1   33.4  0.089 -0.4   7.3          0   \n",
       "4  12914.0  4002.0      ...        3.0   47.8  0.078  0.3  16.9          0   \n",
       "\n",
       "   all_nba_1  all_nba_2  all_nba_3  mvp_candidacy  \n",
       "0          0          0          2              0  \n",
       "1          2          5          2              1  \n",
       "2          0          0          0              0  \n",
       "3          0          0          0              0  \n",
       "4          0          0          0              0  \n",
       "\n",
       "[5 rows x 27 columns]"
      ]
     },
     "execution_count": 54,
     "metadata": {},
     "output_type": "execute_result"
    }
   ],
   "source": [
    "draft_data = pd.read_csv('data/lottery_picks_stats.csv')\n",
    "draft_data = draft_data[draft_data.draft_year < 2015]\n",
    "draft_data.head()"
   ]
  },
  {
   "cell_type": "markdown",
   "metadata": {},
   "source": [
    "### MVP Candidacy"
   ]
  },
  {
   "cell_type": "markdown",
   "metadata": {},
   "source": [
    "Number of players by draft who placed in the top 3 for the MVP at least once "
   ]
  },
  {
   "cell_type": "code",
   "execution_count": 108,
   "metadata": {
    "collapsed": false
   },
   "outputs": [
    {
     "data": {
      "text/plain": [
       "10"
      ]
     },
     "execution_count": 108,
     "metadata": {},
     "output_type": "execute_result"
    }
   ],
   "source": [
    "draft_data[(draft_data.mvp_candidacy > 0) & (draft_data.pick <= 2)]['draft_year'].value_counts().sort_index() # / len(draft_data[draft_data.pick <= 5])"
   ]
  },
  {
   "cell_type": "markdown",
   "metadata": {},
   "source": [
    "The name and draft years of said players"
   ]
  },
  {
   "cell_type": "code",
   "execution_count": 112,
   "metadata": {
    "collapsed": false
   },
   "outputs": [
    {
     "data": {
      "text/plain": [
       "11"
      ]
     },
     "execution_count": 112,
     "metadata": {},
     "output_type": "execute_result"
    }
   ],
   "source": [
    "len(draft_data[(draft_data.mvp_candidacy > 0)#])\n",
    "           & (draft_data.pick <= 2)][['draft_year', 'player']])"
   ]
  },
  {
   "cell_type": "markdown",
   "metadata": {},
   "source": [
    "###  All NBA Teams"
   ]
  },
  {
   "cell_type": "markdown",
   "metadata": {},
   "source": [
    "Top-5 picks who've made an all nba team"
   ]
  },
  {
   "cell_type": "code",
   "execution_count": 92,
   "metadata": {
    "collapsed": false
   },
   "outputs": [
    {
     "data": {
      "text/plain": [
       "1990    2\n",
       "1991    2\n",
       "1992    2\n",
       "1993    3\n",
       "1994    3\n",
       "1995    2\n",
       "1996    3\n",
       "1997    2\n",
       "1998    1\n",
       "1999    2\n",
       "2001    2\n",
       "2002    1\n",
       "2003    4\n",
       "2004    1\n",
       "2005    3\n",
       "2006    1\n",
       "2007    2\n",
       "2008    3\n",
       "2009    2\n",
       "2010    2\n",
       "2011    1\n",
       "2012    1\n",
       "Name: draft_year, dtype: int64"
      ]
     },
     "execution_count": 92,
     "metadata": {},
     "output_type": "execute_result"
    }
   ],
   "source": [
    "draft_data[((draft_data.all_nba_1 > 0) \n",
    "            | (draft_data.all_nba_2 > 0)\n",
    "            | (draft_data.all_nba_3 > 0))\n",
    "           & (draft_data.pick <= 5)]['draft_year'].value_counts().sort_index() "
   ]
  },
  {
   "cell_type": "markdown",
   "metadata": {},
   "source": [
    "Top-5 picks who made an all nba first team"
   ]
  },
  {
   "cell_type": "code",
   "execution_count": 28,
   "metadata": {
    "collapsed": false
   },
   "outputs": [
    {
     "data": {
      "text/plain": [
       "1990    1\n",
       "1992    2\n",
       "1993    2\n",
       "1994    2\n",
       "1995    1\n",
       "1996    1\n",
       "1997    1\n",
       "2003    2\n",
       "2004    1\n",
       "2005    1\n",
       "2007    1\n",
       "2008    2\n",
       "2009    1\n",
       "2012    1\n",
       "Name: draft_year, dtype: int64"
      ]
     },
     "execution_count": 28,
     "metadata": {},
     "output_type": "execute_result"
    }
   ],
   "source": [
    "draft_data[(draft_data.all_nba_1 > 0)\n",
    "           & (draft_data.pick <= 5)]['draft_year'].value_counts().sort_index()"
   ]
  },
  {
   "cell_type": "markdown",
   "metadata": {},
   "source": [
    "### All Star Appearances "
   ]
  },
  {
   "cell_type": "code",
   "execution_count": 93,
   "metadata": {
    "collapsed": false
   },
   "outputs": [
    {
     "data": {
      "image/png": "[encoded data removed]",
      "text/plain": [
       "<matplotlib.figure.Figure at 0x115407908>"
      ]
     },
     "metadata": {},
     "output_type": "display_data"
    }
   ],
   "source": [
    "sns.stripplot(x=\"pick\", y=\"all_stars\", data=draft_data, jitter=True);"
   ]
  },
  {
   "cell_type": "markdown",
   "metadata": {},
   "source": [
    "Top-10 picks who have an more than one all-star game"
   ]
  },
  {
   "cell_type": "code",
   "execution_count": 30,
   "metadata": {
    "collapsed": false
   },
   "outputs": [
    {
     "data": {
      "text/plain": [
       "1990    1\n",
       "1991    2\n",
       "1992    2\n",
       "1993    3\n",
       "1994    4\n",
       "1995    3\n",
       "1996    4\n",
       "1997    3\n",
       "1998    4\n",
       "1999    5\n",
       "2001    2\n",
       "2002    3\n",
       "2003    4\n",
       "2004    2\n",
       "2005    2\n",
       "2006    2\n",
       "2007    3\n",
       "2008    3\n",
       "2009    4\n",
       "2010    3\n",
       "2011    1\n",
       "2012    2\n",
       "Name: draft_year, dtype: int64"
      ]
     },
     "execution_count": 30,
     "metadata": {},
     "output_type": "execute_result"
    }
   ],
   "source": [
    "draft_data[(draft_data.all_stars > 1)\n",
    "           & (draft_data.pick <= 10)]['draft_year'].value_counts().sort_index()"
   ]
  },
  {
   "cell_type": "markdown",
   "metadata": {},
   "source": [
    "Top-10 picks who have made at least one all-star game"
   ]
  },
  {
   "cell_type": "code",
   "execution_count": 31,
   "metadata": {
    "collapsed": false
   },
   "outputs": [
    {
     "data": {
      "text/plain": [
       "1990    2\n",
       "1991    4\n",
       "1992    4\n",
       "1993    4\n",
       "1994    5\n",
       "1995    4\n",
       "1996    5\n",
       "1997    3\n",
       "1998    4\n",
       "1999    6\n",
       "2000    1\n",
       "2001    3\n",
       "2002    3\n",
       "2003    5\n",
       "2004    5\n",
       "2005    3\n",
       "2006    2\n",
       "2007    3\n",
       "2008    4\n",
       "2009    4\n",
       "2010    4\n",
       "2011    2\n",
       "2012    3\n",
       "Name: draft_year, dtype: int64"
      ]
     },
     "execution_count": 31,
     "metadata": {},
     "output_type": "execute_result"
    }
   ],
   "source": [
    "draft_data[(draft_data.all_stars >= 1)\n",
    "           & (draft_data.pick <= 10)]['draft_year'].value_counts().sort_index()"
   ]
  },
  {
   "cell_type": "markdown",
   "metadata": {},
   "source": [
    "### BPM"
   ]
  },
  {
   "cell_type": "code",
   "execution_count": 122,
   "metadata": {
    "collapsed": false
   },
   "outputs": [
    {
     "data": {
      "text/html": [
       "<div>\n",
       "<table border=\"1\" class=\"dataframe\">\n",
       "  <thead>\n",
       "    <tr style=\"text-align: right;\">\n",
       "      <th></th>\n",
       "      <th>draft_year</th>\n",
       "      <th>pick</th>\n",
       "      <th>team</th>\n",
       "      <th>player</th>\n",
       "      <th>college</th>\n",
       "      <th>years</th>\n",
       "      <th>gp</th>\n",
       "      <th>mp</th>\n",
       "      <th>pts</th>\n",
       "      <th>trb</th>\n",
       "      <th>...</th>\n",
       "      <th>apg</th>\n",
       "      <th>ws</th>\n",
       "      <th>ws_58</th>\n",
       "      <th>bpm</th>\n",
       "      <th>vorp</th>\n",
       "      <th>all_stars</th>\n",
       "      <th>all_nba_1</th>\n",
       "      <th>all_nba_2</th>\n",
       "      <th>all_nba_3</th>\n",
       "      <th>mvp_candidacy</th>\n",
       "    </tr>\n",
       "  </thead>\n",
       "  <tbody>\n",
       "    <tr>\n",
       "      <th>28</th>\n",
       "      <td>1992</td>\n",
       "      <td>1</td>\n",
       "      <td>ORL</td>\n",
       "      <td>Shaquille O'Neal</td>\n",
       "      <td>Louisiana State University</td>\n",
       "      <td>19.0</td>\n",
       "      <td>1207.0</td>\n",
       "      <td>41918.0</td>\n",
       "      <td>28596.0</td>\n",
       "      <td>13099.0</td>\n",
       "      <td>...</td>\n",
       "      <td>2.5</td>\n",
       "      <td>181.7</td>\n",
       "      <td>0.208</td>\n",
       "      <td>5.0</td>\n",
       "      <td>74.0</td>\n",
       "      <td>15</td>\n",
       "      <td>8</td>\n",
       "      <td>2</td>\n",
       "      <td>4</td>\n",
       "      <td>5</td>\n",
       "    </tr>\n",
       "    <tr>\n",
       "      <th>74</th>\n",
       "      <td>1995</td>\n",
       "      <td>5</td>\n",
       "      <td>MIN</td>\n",
       "      <td>Kevin Garnett</td>\n",
       "      <td>NaN</td>\n",
       "      <td>21.0</td>\n",
       "      <td>1462.0</td>\n",
       "      <td>50418.0</td>\n",
       "      <td>26071.0</td>\n",
       "      <td>14662.0</td>\n",
       "      <td>...</td>\n",
       "      <td>3.7</td>\n",
       "      <td>191.4</td>\n",
       "      <td>0.182</td>\n",
       "      <td>5.4</td>\n",
       "      <td>94.0</td>\n",
       "      <td>15</td>\n",
       "      <td>4</td>\n",
       "      <td>3</td>\n",
       "      <td>2</td>\n",
       "      <td>4</td>\n",
       "    </tr>\n",
       "    <tr>\n",
       "      <th>98</th>\n",
       "      <td>1997</td>\n",
       "      <td>1</td>\n",
       "      <td>SAS</td>\n",
       "      <td>Tim Duncan</td>\n",
       "      <td>Wake Forest University</td>\n",
       "      <td>19.0</td>\n",
       "      <td>1392.0</td>\n",
       "      <td>47368.0</td>\n",
       "      <td>26496.0</td>\n",
       "      <td>15091.0</td>\n",
       "      <td>...</td>\n",
       "      <td>3.0</td>\n",
       "      <td>206.4</td>\n",
       "      <td>0.209</td>\n",
       "      <td>5.5</td>\n",
       "      <td>89.3</td>\n",
       "      <td>15</td>\n",
       "      <td>10</td>\n",
       "      <td>3</td>\n",
       "      <td>2</td>\n",
       "      <td>5</td>\n",
       "    </tr>\n",
       "    <tr>\n",
       "      <th>182</th>\n",
       "      <td>2003</td>\n",
       "      <td>1</td>\n",
       "      <td>CLE</td>\n",
       "      <td>LeBron James</td>\n",
       "      <td>NaN</td>\n",
       "      <td>14.0</td>\n",
       "      <td>1061.0</td>\n",
       "      <td>41272.0</td>\n",
       "      <td>28787.0</td>\n",
       "      <td>7706.0</td>\n",
       "      <td>...</td>\n",
       "      <td>7.0</td>\n",
       "      <td>205.4</td>\n",
       "      <td>0.239</td>\n",
       "      <td>9.1</td>\n",
       "      <td>115.9</td>\n",
       "      <td>13</td>\n",
       "      <td>11</td>\n",
       "      <td>2</td>\n",
       "      <td>0</td>\n",
       "      <td>9</td>\n",
       "    </tr>\n",
       "    <tr>\n",
       "      <th>186</th>\n",
       "      <td>2003</td>\n",
       "      <td>5</td>\n",
       "      <td>MIA</td>\n",
       "      <td>Dwyane Wade</td>\n",
       "      <td>Marquette University</td>\n",
       "      <td>14.0</td>\n",
       "      <td>915.0</td>\n",
       "      <td>32352.0</td>\n",
       "      <td>21317.0</td>\n",
       "      <td>4396.0</td>\n",
       "      <td>...</td>\n",
       "      <td>5.7</td>\n",
       "      <td>117.2</td>\n",
       "      <td>0.174</td>\n",
       "      <td>5.1</td>\n",
       "      <td>57.7</td>\n",
       "      <td>12</td>\n",
       "      <td>2</td>\n",
       "      <td>3</td>\n",
       "      <td>3</td>\n",
       "      <td>1</td>\n",
       "    </tr>\n",
       "    <tr>\n",
       "      <th>213</th>\n",
       "      <td>2005</td>\n",
       "      <td>4</td>\n",
       "      <td>NOH</td>\n",
       "      <td>Chris Paul</td>\n",
       "      <td>Wake Forest University</td>\n",
       "      <td>12.0</td>\n",
       "      <td>834.0</td>\n",
       "      <td>29646.0</td>\n",
       "      <td>15610.0</td>\n",
       "      <td>3684.0</td>\n",
       "      <td>...</td>\n",
       "      <td>9.9</td>\n",
       "      <td>154.6</td>\n",
       "      <td>0.250</td>\n",
       "      <td>7.6</td>\n",
       "      <td>71.7</td>\n",
       "      <td>9</td>\n",
       "      <td>4</td>\n",
       "      <td>3</td>\n",
       "      <td>1</td>\n",
       "      <td>2</td>\n",
       "    </tr>\n",
       "    <tr>\n",
       "      <th>239</th>\n",
       "      <td>2007</td>\n",
       "      <td>2</td>\n",
       "      <td>SEA</td>\n",
       "      <td>Kevin Durant</td>\n",
       "      <td>University of Texas at Austin</td>\n",
       "      <td>10.0</td>\n",
       "      <td>703.0</td>\n",
       "      <td>26278.0</td>\n",
       "      <td>19121.0</td>\n",
       "      <td>5031.0</td>\n",
       "      <td>...</td>\n",
       "      <td>3.8</td>\n",
       "      <td>119.8</td>\n",
       "      <td>0.219</td>\n",
       "      <td>5.1</td>\n",
       "      <td>47.0</td>\n",
       "      <td>8</td>\n",
       "      <td>5</td>\n",
       "      <td>2</td>\n",
       "      <td>0</td>\n",
       "      <td>4</td>\n",
       "    </tr>\n",
       "    <tr>\n",
       "      <th>255</th>\n",
       "      <td>2008</td>\n",
       "      <td>4</td>\n",
       "      <td>SEA</td>\n",
       "      <td>Russell Westbrook</td>\n",
       "      <td>University of California, Los Angeles</td>\n",
       "      <td>9.0</td>\n",
       "      <td>668.0</td>\n",
       "      <td>22786.0</td>\n",
       "      <td>15156.0</td>\n",
       "      <td>4149.0</td>\n",
       "      <td>...</td>\n",
       "      <td>7.9</td>\n",
       "      <td>80.1</td>\n",
       "      <td>0.169</td>\n",
       "      <td>6.5</td>\n",
       "      <td>48.5</td>\n",
       "      <td>6</td>\n",
       "      <td>2</td>\n",
       "      <td>4</td>\n",
       "      <td>0</td>\n",
       "      <td>1</td>\n",
       "    </tr>\n",
       "    <tr>\n",
       "      <th>268</th>\n",
       "      <td>2009</td>\n",
       "      <td>3</td>\n",
       "      <td>OKC</td>\n",
       "      <td>James Harden</td>\n",
       "      <td>Arizona State University</td>\n",
       "      <td>8.0</td>\n",
       "      <td>615.0</td>\n",
       "      <td>20688.0</td>\n",
       "      <td>13618.0</td>\n",
       "      <td>3093.0</td>\n",
       "      <td>...</td>\n",
       "      <td>5.7</td>\n",
       "      <td>91.3</td>\n",
       "      <td>0.212</td>\n",
       "      <td>6.0</td>\n",
       "      <td>41.7</td>\n",
       "      <td>5</td>\n",
       "      <td>3</td>\n",
       "      <td>0</td>\n",
       "      <td>1</td>\n",
       "      <td>2</td>\n",
       "    </tr>\n",
       "    <tr>\n",
       "      <th>272</th>\n",
       "      <td>2009</td>\n",
       "      <td>7</td>\n",
       "      <td>GSW</td>\n",
       "      <td>Stephen Curry</td>\n",
       "      <td>Davidson College</td>\n",
       "      <td>8.0</td>\n",
       "      <td>574.0</td>\n",
       "      <td>19897.0</td>\n",
       "      <td>13088.0</td>\n",
       "      <td>2502.0</td>\n",
       "      <td>...</td>\n",
       "      <td>6.8</td>\n",
       "      <td>84.2</td>\n",
       "      <td>0.203</td>\n",
       "      <td>6.3</td>\n",
       "      <td>41.8</td>\n",
       "      <td>4</td>\n",
       "      <td>2</td>\n",
       "      <td>2</td>\n",
       "      <td>0</td>\n",
       "      <td>2</td>\n",
       "    </tr>\n",
       "  </tbody>\n",
       "</table>\n",
       "<p>10 rows × 27 columns</p>\n",
       "</div>"
      ],
      "text/plain": [
       "     draft_year  pick team             player  \\\n",
       "28         1992     1  ORL   Shaquille O'Neal   \n",
       "74         1995     5  MIN      Kevin Garnett   \n",
       "98         1997     1  SAS         Tim Duncan   \n",
       "182        2003     1  CLE       LeBron James   \n",
       "186        2003     5  MIA        Dwyane Wade   \n",
       "213        2005     4  NOH         Chris Paul   \n",
       "239        2007     2  SEA       Kevin Durant   \n",
       "255        2008     4  SEA  Russell Westbrook   \n",
       "268        2009     3  OKC       James Harden   \n",
       "272        2009     7  GSW      Stephen Curry   \n",
       "\n",
       "                                   college  years      gp       mp      pts  \\\n",
       "28              Louisiana State University   19.0  1207.0  41918.0  28596.0   \n",
       "74                                     NaN   21.0  1462.0  50418.0  26071.0   \n",
       "98                  Wake Forest University   19.0  1392.0  47368.0  26496.0   \n",
       "182                                    NaN   14.0  1061.0  41272.0  28787.0   \n",
       "186                   Marquette University   14.0   915.0  32352.0  21317.0   \n",
       "213                 Wake Forest University   12.0   834.0  29646.0  15610.0   \n",
       "239          University of Texas at Austin   10.0   703.0  26278.0  19121.0   \n",
       "255  University of California, Los Angeles    9.0   668.0  22786.0  15156.0   \n",
       "268               Arizona State University    8.0   615.0  20688.0  13618.0   \n",
       "272                       Davidson College    8.0   574.0  19897.0  13088.0   \n",
       "\n",
       "         trb      ...        apg     ws  ws_58  bpm   vorp  all_stars  \\\n",
       "28   13099.0      ...        2.5  181.7  0.208  5.0   74.0         15   \n",
       "74   14662.0      ...        3.7  191.4  0.182  5.4   94.0         15   \n",
       "98   15091.0      ...        3.0  206.4  0.209  5.5   89.3         15   \n",
       "182   7706.0      ...        7.0  205.4  0.239  9.1  115.9         13   \n",
       "186   4396.0      ...        5.7  117.2  0.174  5.1   57.7         12   \n",
       "213   3684.0      ...        9.9  154.6  0.250  7.6   71.7          9   \n",
       "239   5031.0      ...        3.8  119.8  0.219  5.1   47.0          8   \n",
       "255   4149.0      ...        7.9   80.1  0.169  6.5   48.5          6   \n",
       "268   3093.0      ...        5.7   91.3  0.212  6.0   41.7          5   \n",
       "272   2502.0      ...        6.8   84.2  0.203  6.3   41.8          4   \n",
       "\n",
       "     all_nba_1  all_nba_2  all_nba_3  mvp_candidacy  \n",
       "28           8          2          4              5  \n",
       "74           4          3          2              4  \n",
       "98          10          3          2              5  \n",
       "182         11          2          0              9  \n",
       "186          2          3          3              1  \n",
       "213          4          3          1              2  \n",
       "239          5          2          0              4  \n",
       "255          2          4          0              1  \n",
       "268          3          0          1              2  \n",
       "272          2          2          0              2  \n",
       "\n",
       "[10 rows x 27 columns]"
      ]
     },
     "execution_count": 122,
     "metadata": {},
     "output_type": "execute_result"
    }
   ],
   "source": [
    "draft_data[draft_data.bpm >= 5]"
   ]
  },
  {
   "cell_type": "markdown",
   "metadata": {},
   "source": [
    "### One and Done Era through 2014"
   ]
  },
  {
   "cell_type": "code",
   "execution_count": 55,
   "metadata": {
    "collapsed": false
   },
   "outputs": [
    {
     "data": {
      "text/html": [
       "<div>\n",
       "<table border=\"1\" class=\"dataframe\">\n",
       "  <thead>\n",
       "    <tr style=\"text-align: right;\">\n",
       "      <th></th>\n",
       "      <th>draft_year</th>\n",
       "      <th>pick</th>\n",
       "      <th>team</th>\n",
       "      <th>player</th>\n",
       "      <th>college</th>\n",
       "      <th>years</th>\n",
       "      <th>gp</th>\n",
       "      <th>mp</th>\n",
       "      <th>pts</th>\n",
       "      <th>trb</th>\n",
       "      <th>...</th>\n",
       "      <th>apg</th>\n",
       "      <th>ws</th>\n",
       "      <th>ws_58</th>\n",
       "      <th>bpm</th>\n",
       "      <th>vorp</th>\n",
       "      <th>all_stars</th>\n",
       "      <th>all_nba_1</th>\n",
       "      <th>all_nba_2</th>\n",
       "      <th>all_nba_3</th>\n",
       "      <th>mvp_candidacy</th>\n",
       "    </tr>\n",
       "  </thead>\n",
       "  <tbody>\n",
       "    <tr>\n",
       "      <th>238</th>\n",
       "      <td>2007</td>\n",
       "      <td>1</td>\n",
       "      <td>POR</td>\n",
       "      <td>Greg Oden</td>\n",
       "      <td>Ohio State University</td>\n",
       "      <td>3.0</td>\n",
       "      <td>105.0</td>\n",
       "      <td>2028.0</td>\n",
       "      <td>840.0</td>\n",
       "      <td>656.0</td>\n",
       "      <td>...</td>\n",
       "      <td>0.5</td>\n",
       "      <td>7.3</td>\n",
       "      <td>0.174</td>\n",
       "      <td>1.1</td>\n",
       "      <td>1.6</td>\n",
       "      <td>0</td>\n",
       "      <td>0</td>\n",
       "      <td>0</td>\n",
       "      <td>0</td>\n",
       "      <td>0</td>\n",
       "    </tr>\n",
       "    <tr>\n",
       "      <th>239</th>\n",
       "      <td>2007</td>\n",
       "      <td>2</td>\n",
       "      <td>SEA</td>\n",
       "      <td>Kevin Durant</td>\n",
       "      <td>University of Texas at Austin</td>\n",
       "      <td>10.0</td>\n",
       "      <td>703.0</td>\n",
       "      <td>26278.0</td>\n",
       "      <td>19121.0</td>\n",
       "      <td>5031.0</td>\n",
       "      <td>...</td>\n",
       "      <td>3.8</td>\n",
       "      <td>119.8</td>\n",
       "      <td>0.219</td>\n",
       "      <td>5.1</td>\n",
       "      <td>47.0</td>\n",
       "      <td>8</td>\n",
       "      <td>5</td>\n",
       "      <td>2</td>\n",
       "      <td>0</td>\n",
       "      <td>4</td>\n",
       "    </tr>\n",
       "    <tr>\n",
       "      <th>240</th>\n",
       "      <td>2007</td>\n",
       "      <td>3</td>\n",
       "      <td>ATL</td>\n",
       "      <td>Al Horford</td>\n",
       "      <td>University of Florida</td>\n",
       "      <td>10.0</td>\n",
       "      <td>646.0</td>\n",
       "      <td>21535.0</td>\n",
       "      <td>9240.0</td>\n",
       "      <td>5609.0</td>\n",
       "      <td>...</td>\n",
       "      <td>3.0</td>\n",
       "      <td>70.5</td>\n",
       "      <td>0.157</td>\n",
       "      <td>3.0</td>\n",
       "      <td>27.2</td>\n",
       "      <td>4</td>\n",
       "      <td>0</td>\n",
       "      <td>0</td>\n",
       "      <td>1</td>\n",
       "      <td>0</td>\n",
       "    </tr>\n",
       "    <tr>\n",
       "      <th>241</th>\n",
       "      <td>2007</td>\n",
       "      <td>4</td>\n",
       "      <td>MEM</td>\n",
       "      <td>Mike Conley</td>\n",
       "      <td>Ohio State University</td>\n",
       "      <td>10.0</td>\n",
       "      <td>706.0</td>\n",
       "      <td>22985.0</td>\n",
       "      <td>10050.0</td>\n",
       "      <td>2061.0</td>\n",
       "      <td>...</td>\n",
       "      <td>5.7</td>\n",
       "      <td>62.8</td>\n",
       "      <td>0.131</td>\n",
       "      <td>1.9</td>\n",
       "      <td>22.5</td>\n",
       "      <td>0</td>\n",
       "      <td>0</td>\n",
       "      <td>0</td>\n",
       "      <td>0</td>\n",
       "      <td>0</td>\n",
       "    </tr>\n",
       "    <tr>\n",
       "      <th>242</th>\n",
       "      <td>2007</td>\n",
       "      <td>5</td>\n",
       "      <td>BOS</td>\n",
       "      <td>Jeff Green</td>\n",
       "      <td>Georgetown University</td>\n",
       "      <td>9.0</td>\n",
       "      <td>705.0</td>\n",
       "      <td>21894.0</td>\n",
       "      <td>9528.0</td>\n",
       "      <td>3320.0</td>\n",
       "      <td>...</td>\n",
       "      <td>1.6</td>\n",
       "      <td>32.7</td>\n",
       "      <td>0.072</td>\n",
       "      <td>-1.3</td>\n",
       "      <td>3.9</td>\n",
       "      <td>0</td>\n",
       "      <td>0</td>\n",
       "      <td>0</td>\n",
       "      <td>0</td>\n",
       "      <td>0</td>\n",
       "    </tr>\n",
       "  </tbody>\n",
       "</table>\n",
       "<p>5 rows × 27 columns</p>\n",
       "</div>"
      ],
      "text/plain": [
       "     draft_year  pick team        player                        college  \\\n",
       "238        2007     1  POR     Greg Oden          Ohio State University   \n",
       "239        2007     2  SEA  Kevin Durant  University of Texas at Austin   \n",
       "240        2007     3  ATL    Al Horford          University of Florida   \n",
       "241        2007     4  MEM   Mike Conley          Ohio State University   \n",
       "242        2007     5  BOS    Jeff Green          Georgetown University   \n",
       "\n",
       "     years     gp       mp      pts     trb      ...        apg     ws  ws_58  \\\n",
       "238    3.0  105.0   2028.0    840.0   656.0      ...        0.5    7.3  0.174   \n",
       "239   10.0  703.0  26278.0  19121.0  5031.0      ...        3.8  119.8  0.219   \n",
       "240   10.0  646.0  21535.0   9240.0  5609.0      ...        3.0   70.5  0.157   \n",
       "241   10.0  706.0  22985.0  10050.0  2061.0      ...        5.7   62.8  0.131   \n",
       "242    9.0  705.0  21894.0   9528.0  3320.0      ...        1.6   32.7  0.072   \n",
       "\n",
       "     bpm  vorp  all_stars  all_nba_1  all_nba_2  all_nba_3  mvp_candidacy  \n",
       "238  1.1   1.6          0          0          0          0              0  \n",
       "239  5.1  47.0          8          5          2          0              4  \n",
       "240  3.0  27.2          4          0          0          1              0  \n",
       "241  1.9  22.5          0          0          0          0              0  \n",
       "242 -1.3   3.9          0          0          0          0              0  \n",
       "\n",
       "[5 rows x 27 columns]"
      ]
     },
     "execution_count": 55,
     "metadata": {},
     "output_type": "execute_result"
    }
   ],
   "source": [
    "one_done_df = draft_data[(draft_data.draft_year >= 2007) & (draft_data.draft_year < 2015)]\n",
    "one_done_df.head()"
   ]
  },
  {
   "cell_type": "code",
   "execution_count": 58,
   "metadata": {
    "collapsed": false
   },
   "outputs": [
    {
     "name": "stderr",
     "output_type": "stream",
     "text": [
      "/Users/Dayo/anaconda/envs/venv/lib/python3.5/site-packages/ipykernel/__main__.py:1: SettingWithCopyWarning: \n",
      "A value is trying to be set on a copy of a slice from a DataFrame.\n",
      "Try using .loc[row_indexer,col_indexer] = value instead\n",
      "\n",
      "See the caveats in the documentation: http://pandas.pydata.org/pandas-docs/stable/indexing.html#indexing-view-versus-copy\n",
      "  if __name__ == '__main__':\n",
      "/Users/Dayo/anaconda/envs/venv/lib/python3.5/site-packages/ipykernel/__main__.py:2: SettingWithCopyWarning: \n",
      "A value is trying to be set on a copy of a slice from a DataFrame.\n",
      "Try using .loc[row_indexer,col_indexer] = value instead\n",
      "\n",
      "See the caveats in the documentation: http://pandas.pydata.org/pandas-docs/stable/indexing.html#indexing-view-versus-copy\n",
      "  from ipykernel import kernelapp as app\n"
     ]
    }
   ],
   "source": [
    "one_done_df['years_eligible'] = 2017 - one_done_df['draft_year']\n",
    "one_done_df['not_in_nba'] = (one_done_df['years_eligible'] == one_done_df['years'])"
   ]
  },
  {
   "cell_type": "markdown",
   "metadata": {},
   "source": [
    "Percentage of draft picks still in the league"
   ]
  },
  {
   "cell_type": "code",
   "execution_count": 59,
   "metadata": {
    "collapsed": false
   },
   "outputs": [
    {
     "data": {
      "text/plain": [
       "0.7321428571428571"
      ]
     },
     "execution_count": 59,
     "metadata": {},
     "output_type": "execute_result"
    }
   ],
   "source": [
    "len(one_done_df[one_done_df.not_in_nba])/len(one_done_df)"
   ]
  },
  {
   "cell_type": "markdown",
   "metadata": {},
   "source": [
    "Percentage of draft picks with a less than .1 win shares per 48 minutes"
   ]
  },
  {
   "cell_type": "code",
   "execution_count": 104,
   "metadata": {
    "collapsed": false
   },
   "outputs": [
    {
     "data": {
      "text/plain": [
       "0.17857142857142858"
      ]
     },
     "execution_count": 104,
     "metadata": {},
     "output_type": "execute_result"
    }
   ],
   "source": [
    "len(one_done_df[(one_done_df.ws_58 < .1) & (one_done_df.pick <= 5 )]) / len(one_done_df)"
   ]
  },
  {
   "cell_type": "markdown",
   "metadata": {},
   "source": [
    "value over replacement player"
   ]
  },
  {
   "cell_type": "code",
   "execution_count": 65,
   "metadata": {
    "collapsed": false
   },
   "outputs": [
    {
     "name": "stderr",
     "output_type": "stream",
     "text": [
      "/Users/Dayo/anaconda/envs/venv/lib/python3.5/site-packages/ipykernel/__main__.py:1: SettingWithCopyWarning: \n",
      "A value is trying to be set on a copy of a slice from a DataFrame.\n",
      "Try using .loc[row_indexer,col_indexer] = value instead\n",
      "\n",
      "See the caveats in the documentation: http://pandas.pydata.org/pandas-docs/stable/indexing.html#indexing-view-versus-copy\n",
      "  if __name__ == '__main__':\n"
     ]
    },
    {
     "data": {
      "text/plain": [
       "0.3125"
      ]
     },
     "execution_count": 65,
     "metadata": {},
     "output_type": "execute_result"
    }
   ],
   "source": [
    "one_done_df['vorp_per_season'] = one_done_df['vorp'] / one_done_df['years']\n",
    "len(one_done_df[one_done_df.vorp_per_season < 0]) / len(one_done_df)"
   ]
  },
  {
   "cell_type": "markdown",
   "metadata": {},
   "source": [
    "box plus minus"
   ]
  },
  {
   "cell_type": "code",
   "execution_count": 65,
   "metadata": {
    "collapsed": false
   },
   "outputs": [
    {
     "data": {
      "text/html": [
       "<div>\n",
       "<table border=\"1\" class=\"dataframe\">\n",
       "  <thead>\n",
       "    <tr style=\"text-align: right;\">\n",
       "      <th></th>\n",
       "      <th>player</th>\n",
       "      <th>bpm</th>\n",
       "    </tr>\n",
       "  </thead>\n",
       "  <tbody>\n",
       "    <tr>\n",
       "      <th>239</th>\n",
       "      <td>Kevin Durant</td>\n",
       "      <td>5.1</td>\n",
       "    </tr>\n",
       "    <tr>\n",
       "      <th>246</th>\n",
       "      <td>Joakim Noah</td>\n",
       "      <td>4.2</td>\n",
       "    </tr>\n",
       "    <tr>\n",
       "      <th>255</th>\n",
       "      <td>Russell Westbrook</td>\n",
       "      <td>6.5</td>\n",
       "    </tr>\n",
       "    <tr>\n",
       "      <th>266</th>\n",
       "      <td>Blake Griffin</td>\n",
       "      <td>4.1</td>\n",
       "    </tr>\n",
       "    <tr>\n",
       "      <th>268</th>\n",
       "      <td>James Harden</td>\n",
       "      <td>6.0</td>\n",
       "    </tr>\n",
       "    <tr>\n",
       "      <th>272</th>\n",
       "      <td>Stephen Curry</td>\n",
       "      <td>6.3</td>\n",
       "    </tr>\n",
       "    <tr>\n",
       "      <th>308</th>\n",
       "      <td>Anthony Davis</td>\n",
       "      <td>4.1</td>\n",
       "    </tr>\n",
       "  </tbody>\n",
       "</table>\n",
       "</div>"
      ],
      "text/plain": [
       "                player  bpm\n",
       "239       Kevin Durant  5.1\n",
       "246        Joakim Noah  4.2\n",
       "255  Russell Westbrook  6.5\n",
       "266      Blake Griffin  4.1\n",
       "268       James Harden  6.0\n",
       "272      Stephen Curry  6.3\n",
       "308      Anthony Davis  4.1"
      ]
     },
     "execution_count": 65,
     "metadata": {},
     "output_type": "execute_result"
    }
   ],
   "source": [
    "one_done_df[one_done_df['bpm'] >= 4][[\"player\", \"bpm\",]]"
   ]
  },
  {
   "cell_type": "code",
   "execution_count": 72,
   "metadata": {
    "collapsed": false
   },
   "outputs": [
    {
     "data": {
      "text/plain": [
       "0.07142857142857142"
      ]
     },
     "execution_count": 72,
     "metadata": {},
     "output_type": "execute_result"
    }
   ],
   "source": [
    "len(one_done_df[one_done_df['bpm'] >= 3.5]) / len(one_done_df)"
   ]
  },
  {
   "cell_type": "code",
   "execution_count": 77,
   "metadata": {
    "collapsed": false
   },
   "outputs": [
    {
     "data": {
      "text/html": [
       "<div>\n",
       "<table border=\"1\" class=\"dataframe\">\n",
       "  <thead>\n",
       "    <tr style=\"text-align: right;\">\n",
       "      <th></th>\n",
       "      <th>draft_year</th>\n",
       "      <th>pick</th>\n",
       "      <th>team</th>\n",
       "      <th>player</th>\n",
       "      <th>college</th>\n",
       "      <th>years</th>\n",
       "      <th>gp</th>\n",
       "      <th>mp</th>\n",
       "      <th>pts</th>\n",
       "      <th>trb</th>\n",
       "      <th>...</th>\n",
       "      <th>bpm</th>\n",
       "      <th>vorp</th>\n",
       "      <th>all_stars</th>\n",
       "      <th>all_nba_1</th>\n",
       "      <th>all_nba_2</th>\n",
       "      <th>all_nba_3</th>\n",
       "      <th>mvp_candidacy</th>\n",
       "      <th>years_eligible</th>\n",
       "      <th>not_in_nba</th>\n",
       "      <th>vorp_per_season</th>\n",
       "    </tr>\n",
       "  </thead>\n",
       "  <tbody>\n",
       "    <tr>\n",
       "      <th>239</th>\n",
       "      <td>2007</td>\n",
       "      <td>2</td>\n",
       "      <td>SEA</td>\n",
       "      <td>Kevin Durant</td>\n",
       "      <td>University of Texas at Austin</td>\n",
       "      <td>10.0</td>\n",
       "      <td>703.0</td>\n",
       "      <td>26278.0</td>\n",
       "      <td>19121.0</td>\n",
       "      <td>5031.0</td>\n",
       "      <td>...</td>\n",
       "      <td>5.1</td>\n",
       "      <td>47.0</td>\n",
       "      <td>8</td>\n",
       "      <td>5</td>\n",
       "      <td>2</td>\n",
       "      <td>0</td>\n",
       "      <td>4</td>\n",
       "      <td>10</td>\n",
       "      <td>True</td>\n",
       "      <td>4.700000</td>\n",
       "    </tr>\n",
       "    <tr>\n",
       "      <th>255</th>\n",
       "      <td>2008</td>\n",
       "      <td>4</td>\n",
       "      <td>SEA</td>\n",
       "      <td>Russell Westbrook</td>\n",
       "      <td>University of California, Los Angeles</td>\n",
       "      <td>9.0</td>\n",
       "      <td>668.0</td>\n",
       "      <td>22786.0</td>\n",
       "      <td>15156.0</td>\n",
       "      <td>4149.0</td>\n",
       "      <td>...</td>\n",
       "      <td>6.5</td>\n",
       "      <td>48.5</td>\n",
       "      <td>6</td>\n",
       "      <td>2</td>\n",
       "      <td>4</td>\n",
       "      <td>0</td>\n",
       "      <td>1</td>\n",
       "      <td>9</td>\n",
       "      <td>True</td>\n",
       "      <td>5.388889</td>\n",
       "    </tr>\n",
       "    <tr>\n",
       "      <th>268</th>\n",
       "      <td>2009</td>\n",
       "      <td>3</td>\n",
       "      <td>OKC</td>\n",
       "      <td>James Harden</td>\n",
       "      <td>Arizona State University</td>\n",
       "      <td>8.0</td>\n",
       "      <td>615.0</td>\n",
       "      <td>20688.0</td>\n",
       "      <td>13618.0</td>\n",
       "      <td>3093.0</td>\n",
       "      <td>...</td>\n",
       "      <td>6.0</td>\n",
       "      <td>41.7</td>\n",
       "      <td>5</td>\n",
       "      <td>3</td>\n",
       "      <td>0</td>\n",
       "      <td>1</td>\n",
       "      <td>2</td>\n",
       "      <td>8</td>\n",
       "      <td>True</td>\n",
       "      <td>5.212500</td>\n",
       "    </tr>\n",
       "    <tr>\n",
       "      <th>272</th>\n",
       "      <td>2009</td>\n",
       "      <td>7</td>\n",
       "      <td>GSW</td>\n",
       "      <td>Stephen Curry</td>\n",
       "      <td>Davidson College</td>\n",
       "      <td>8.0</td>\n",
       "      <td>574.0</td>\n",
       "      <td>19897.0</td>\n",
       "      <td>13088.0</td>\n",
       "      <td>2502.0</td>\n",
       "      <td>...</td>\n",
       "      <td>6.3</td>\n",
       "      <td>41.8</td>\n",
       "      <td>4</td>\n",
       "      <td>2</td>\n",
       "      <td>2</td>\n",
       "      <td>0</td>\n",
       "      <td>2</td>\n",
       "      <td>8</td>\n",
       "      <td>True</td>\n",
       "      <td>5.225000</td>\n",
       "    </tr>\n",
       "  </tbody>\n",
       "</table>\n",
       "<p>4 rows × 30 columns</p>\n",
       "</div>"
      ],
      "text/plain": [
       "     draft_year  pick team             player  \\\n",
       "239        2007     2  SEA       Kevin Durant   \n",
       "255        2008     4  SEA  Russell Westbrook   \n",
       "268        2009     3  OKC       James Harden   \n",
       "272        2009     7  GSW      Stephen Curry   \n",
       "\n",
       "                                   college  years     gp       mp      pts  \\\n",
       "239          University of Texas at Austin   10.0  703.0  26278.0  19121.0   \n",
       "255  University of California, Los Angeles    9.0  668.0  22786.0  15156.0   \n",
       "268               Arizona State University    8.0  615.0  20688.0  13618.0   \n",
       "272                       Davidson College    8.0  574.0  19897.0  13088.0   \n",
       "\n",
       "        trb       ...         bpm  vorp  all_stars  all_nba_1  all_nba_2  \\\n",
       "239  5031.0       ...         5.1  47.0          8          5          2   \n",
       "255  4149.0       ...         6.5  48.5          6          2          4   \n",
       "268  3093.0       ...         6.0  41.7          5          3          0   \n",
       "272  2502.0       ...         6.3  41.8          4          2          2   \n",
       "\n",
       "     all_nba_3  mvp_candidacy  years_eligible  not_in_nba  vorp_per_season  \n",
       "239          0              4              10        True         4.700000  \n",
       "255          0              1               9        True         5.388889  \n",
       "268          1              2               8        True         5.212500  \n",
       "272          0              2               8        True         5.225000  \n",
       "\n",
       "[4 rows x 30 columns]"
      ]
     },
     "execution_count": 77,
     "metadata": {},
     "output_type": "execute_result"
    }
   ],
   "source": [
    "one_done_df[one_done_df['bpm'] >= 5]"
   ]
  },
  {
   "cell_type": "code",
   "execution_count": 113,
   "metadata": {
    "collapsed": false
   },
   "outputs": [
    {
     "data": {
      "text/plain": [
       "0.6160714285714286"
      ]
     },
     "execution_count": 113,
     "metadata": {},
     "output_type": "execute_result"
    }
   ],
   "source": [
    "len(one_done_df[one_done_df['bpm'] < 0]) / len(one_done_df)"
   ]
  },
  {
   "cell_type": "code",
   "execution_count": 86,
   "metadata": {
    "collapsed": false
   },
   "outputs": [
    {
     "data": {
      "text/plain": [
       "<matplotlib.axes._subplots.AxesSubplot at 0x1142dc6d8>"
      ]
     },
     "execution_count": 86,
     "metadata": {},
     "output_type": "execute_result"
    },
    {
     "data": {
      "image/png": "[encoded data removed]",
      "text/plain": [
       "<matplotlib.figure.Figure at 0x1142ad6d8>"
      ]
     },
     "metadata": {},
     "output_type": "display_data"
    }
   ],
   "source": [
    "one_done_df['bpm'].hist()"
   ]
  },
  {
   "cell_type": "markdown",
   "metadata": {},
   "source": [
    "## Win Shares"
   ]
  },
  {
   "cell_type": "code",
   "execution_count": 5,
   "metadata": {
    "collapsed": false
   },
   "outputs": [],
   "source": [
    "adv_df = pd.read_csv('data/advanced_stats.csv')"
   ]
  },
  {
   "cell_type": "code",
   "execution_count": 6,
   "metadata": {
    "collapsed": false
   },
   "outputs": [
    {
     "data": {
      "text/html": [
       "<div>\n",
       "<table border=\"1\" class=\"dataframe\">\n",
       "  <thead>\n",
       "    <tr style=\"text-align: right;\">\n",
       "      <th></th>\n",
       "      <th>Team</th>\n",
       "      <th>Name</th>\n",
       "      <th>Age</th>\n",
       "      <th>G</th>\n",
       "      <th>MP</th>\n",
       "      <th>PER</th>\n",
       "      <th>TS%</th>\n",
       "      <th>3PAr</th>\n",
       "      <th>FTr</th>\n",
       "      <th>ORB%</th>\n",
       "      <th>...</th>\n",
       "      <th>TOV%</th>\n",
       "      <th>USG%</th>\n",
       "      <th>OWS</th>\n",
       "      <th>DWS</th>\n",
       "      <th>WS</th>\n",
       "      <th>WS/48</th>\n",
       "      <th>OBPM</th>\n",
       "      <th>DBPM</th>\n",
       "      <th>BPM</th>\n",
       "      <th>VOR</th>\n",
       "    </tr>\n",
       "  </thead>\n",
       "  <tbody>\n",
       "    <tr>\n",
       "      <th>0</th>\n",
       "      <td>ATL</td>\n",
       "      <td>Dennis Schroder</td>\n",
       "      <td>23</td>\n",
       "      <td>79</td>\n",
       "      <td>2485</td>\n",
       "      <td>16.1</td>\n",
       "      <td>0.533</td>\n",
       "      <td>0.242</td>\n",
       "      <td>0.210</td>\n",
       "      <td>1.9</td>\n",
       "      <td>...</td>\n",
       "      <td>16.3</td>\n",
       "      <td>27.8</td>\n",
       "      <td>1.2</td>\n",
       "      <td>2.5</td>\n",
       "      <td>3.7</td>\n",
       "      <td>0.071</td>\n",
       "      <td>0.7</td>\n",
       "      <td>-1.4</td>\n",
       "      <td>-0.7</td>\n",
       "      <td>0.8</td>\n",
       "    </tr>\n",
       "    <tr>\n",
       "      <th>1</th>\n",
       "      <td>ATL</td>\n",
       "      <td>Paul Millsap</td>\n",
       "      <td>31</td>\n",
       "      <td>69</td>\n",
       "      <td>2343</td>\n",
       "      <td>17.8</td>\n",
       "      <td>0.542</td>\n",
       "      <td>0.248</td>\n",
       "      <td>0.417</td>\n",
       "      <td>5.3</td>\n",
       "      <td>...</td>\n",
       "      <td>12.1</td>\n",
       "      <td>24.4</td>\n",
       "      <td>2.6</td>\n",
       "      <td>3.8</td>\n",
       "      <td>6.4</td>\n",
       "      <td>0.132</td>\n",
       "      <td>0.5</td>\n",
       "      <td>2.1</td>\n",
       "      <td>2.7</td>\n",
       "      <td>2.7</td>\n",
       "    </tr>\n",
       "    <tr>\n",
       "      <th>2</th>\n",
       "      <td>ATL</td>\n",
       "      <td>Dwight Howard</td>\n",
       "      <td>31</td>\n",
       "      <td>74</td>\n",
       "      <td>2199</td>\n",
       "      <td>20.8</td>\n",
       "      <td>0.627</td>\n",
       "      <td>0.003</td>\n",
       "      <td>0.692</td>\n",
       "      <td>15.0</td>\n",
       "      <td>...</td>\n",
       "      <td>17.5</td>\n",
       "      <td>19.2</td>\n",
       "      <td>3.8</td>\n",
       "      <td>4.5</td>\n",
       "      <td>8.3</td>\n",
       "      <td>0.181</td>\n",
       "      <td>-0.5</td>\n",
       "      <td>2.8</td>\n",
       "      <td>2.3</td>\n",
       "      <td>2.4</td>\n",
       "    </tr>\n",
       "    <tr>\n",
       "      <th>3</th>\n",
       "      <td>ATL</td>\n",
       "      <td>Tim Hardaway</td>\n",
       "      <td>24</td>\n",
       "      <td>79</td>\n",
       "      <td>2154</td>\n",
       "      <td>15.2</td>\n",
       "      <td>0.568</td>\n",
       "      <td>0.457</td>\n",
       "      <td>0.235</td>\n",
       "      <td>1.8</td>\n",
       "      <td>...</td>\n",
       "      <td>9.5</td>\n",
       "      <td>22.5</td>\n",
       "      <td>2.7</td>\n",
       "      <td>2.1</td>\n",
       "      <td>4.8</td>\n",
       "      <td>0.107</td>\n",
       "      <td>1.3</td>\n",
       "      <td>-1.5</td>\n",
       "      <td>-0.3</td>\n",
       "      <td>0.9</td>\n",
       "    </tr>\n",
       "    <tr>\n",
       "      <th>4</th>\n",
       "      <td>ATL</td>\n",
       "      <td>Kent Bazemore</td>\n",
       "      <td>27</td>\n",
       "      <td>73</td>\n",
       "      <td>1963</td>\n",
       "      <td>11.5</td>\n",
       "      <td>0.504</td>\n",
       "      <td>0.369</td>\n",
       "      <td>0.233</td>\n",
       "      <td>2.6</td>\n",
       "      <td>...</td>\n",
       "      <td>13.6</td>\n",
       "      <td>20.5</td>\n",
       "      <td>-0.6</td>\n",
       "      <td>2.8</td>\n",
       "      <td>2.1</td>\n",
       "      <td>0.052</td>\n",
       "      <td>-2.0</td>\n",
       "      <td>1.2</td>\n",
       "      <td>-0.8</td>\n",
       "      <td>0.6</td>\n",
       "    </tr>\n",
       "  </tbody>\n",
       "</table>\n",
       "<p>5 rows × 25 columns</p>\n",
       "</div>"
      ],
      "text/plain": [
       "  Team             Name  Age   G    MP   PER    TS%   3PAr    FTr  ORB% ...   \\\n",
       "0  ATL  Dennis Schroder   23  79  2485  16.1  0.533  0.242  0.210   1.9 ...    \n",
       "1  ATL     Paul Millsap   31  69  2343  17.8  0.542  0.248  0.417   5.3 ...    \n",
       "2  ATL    Dwight Howard   31  74  2199  20.8  0.627  0.003  0.692  15.0 ...    \n",
       "3  ATL     Tim Hardaway   24  79  2154  15.2  0.568  0.457  0.235   1.8 ...    \n",
       "4  ATL    Kent Bazemore   27  73  1963  11.5  0.504  0.369  0.233   2.6 ...    \n",
       "\n",
       "   TOV%  USG%  OWS  DWS   WS  WS/48  OBPM  DBPM  BPM  VOR  \n",
       "0  16.3  27.8  1.2  2.5  3.7  0.071   0.7  -1.4 -0.7  0.8  \n",
       "1  12.1  24.4  2.6  3.8  6.4  0.132   0.5   2.1  2.7  2.7  \n",
       "2  17.5  19.2  3.8  4.5  8.3  0.181  -0.5   2.8  2.3  2.4  \n",
       "3   9.5  22.5  2.7  2.1  4.8  0.107   1.3  -1.5 -0.3  0.9  \n",
       "4  13.6  20.5 -0.6  2.8  2.1  0.052  -2.0   1.2 -0.8  0.6  \n",
       "\n",
       "[5 rows x 25 columns]"
      ]
     },
     "execution_count": 6,
     "metadata": {},
     "output_type": "execute_result"
    }
   ],
   "source": [
    "adv_df.head()"
   ]
  },
  {
   "cell_type": "code",
   "execution_count": 11,
   "metadata": {
    "collapsed": true
   },
   "outputs": [],
   "source": [
    "teams = adv_df['Team'].unique().tolist()"
   ]
  },
  {
   "cell_type": "code",
   "execution_count": 26,
   "metadata": {
    "collapsed": false
   },
   "outputs": [
    {
     "data": {
      "text/plain": [
       "0.21065989847715738"
      ]
     },
     "execution_count": 26,
     "metadata": {},
     "output_type": "execute_result"
    }
   ],
   "source": [
    "practice = adv_df[adv_df.Team == 'ATL'].sort_values(by='WS', axis=0, ascending=False, inplace=False)\n",
    "practice.iloc[0]['WS'] / practice.WS.sum()"
   ]
  },
  {
   "cell_type": "code",
   "execution_count": 71,
   "metadata": {
    "collapsed": false
   },
   "outputs": [
    {
     "name": "stdout",
     "output_type": "stream",
     "text": [
      "ATL - Dwight Howard: 8.3 (0.21065989847715738)%\n",
      "BOS - Isaiah Thomas: 12.5 (0.26041666666666663)%\n",
      "BRK - Brook Lopez: 4.9 (0.19140624999999997)%\n",
      "CHO - Kemba Walker: 8.1 (0.19014084507042256)%\n",
      "CHI - Jimmy Butler: 13.8 (0.32093023255813957)%\n",
      "CLE - LeBron James: 12.9 (0.2600806451612903)%\n",
      "DAL - Harrison Barnes: 4.6 (0.1318051575931232)%\n",
      "DEN - Nikola Jokic: 9.7 (0.23095238095238094)%\n",
      "DET - Tobias Harris: 6.8 (0.17754569190600528)%\n",
      "GSW - Stephen Curry: 12.6 (0.18556701030927833)%\n",
      "HOU - James Harden: 15.0 (0.27173913043478265)%\n",
      "IND - Jeff Teague: 8.1 (0.199017199017199)%\n",
      "LAC - DeAndre Jordan: 11.8 (0.22823984526112187)%\n",
      "LAL - Lou Williams: 4.9 (0.1952191235059761)%\n",
      "MEM - Mike Conley: 10.0 (0.23310023310023306)%\n",
      "MIA - Hassan Whiteside: 9.5 (0.21300448430493277)%\n",
      "MIL - Giannis Antetokounmpo: 12.4 (0.3002421307506053)%\n",
      "MIN - Karl-Anthony Towns: 12.7 (0.3223350253807106)%\n",
      "NOP - Anthony Davis: 11.0 (0.3030303030303029)%\n",
      "NYK - Carmelo Anthony: 4.7 (0.14242424242424245)%\n",
      "OKC - Russell Westbrook: 13.1 (0.29705215419501135)%\n",
      "ORL - Elfrid Payton: 4.4 (0.1746031746031746)%\n",
      "PHI - Richaun Holmes: 3.8 (0.13868613138686134)%\n",
      "PHO - Eric Bledsoe: 5.3 (0.18275862068965515)%\n",
      "POR - Damian Lillard: 10.4 (0.2524271844660194)%\n",
      "SAC - DeMarcus Cousins: 6.0 (0.1935483870967742)%\n",
      "SAS - Kawhi Leonard: 13.6 (0.22553897180762847)%\n",
      "TOR - Kyle Lowry: 10.1 (0.18703703703703706)%\n",
      "UTA - Rudy Gobert: 14.3 (0.2713472485768501)%\n",
      "WAS - Otto Porter: 9.4 (0.20085470085470086)%\n",
      "Average WinShares for top player:0.22305700355394278\n"
     ]
    }
   ],
   "source": [
    "import statistics\n",
    "\n",
    "ws_percs = list()\n",
    "for team in teams:\n",
    "    team_df = adv_df[adv_df.Team == team].copy()\n",
    "    team_sorted = team_df.sort_values(by='WS', axis=0, ascending=False, inplace=False)\n",
    "    highest_ws = team_sorted.iloc[0]['WS']\n",
    "    player = team_sorted.iloc[0]['Name']\n",
    "    total_ws = team_sorted.WS.sum()\n",
    "    perc_accounted_for = (highest_ws / total_ws)\n",
    "    ws_percs.append(perc_accounted_for)\n",
    "    print(\"{} - {}: {} ({})%\".format(team, player, highest_ws,perc_accounted_for))\n",
    "#     print(perc_accounted_for)\n",
    "print(\"Average WinShares for top player:{}\".format(statistics.mean(ws_percs)))"
   ]
  },
  {
   "cell_type": "code",
   "execution_count": 47,
   "metadata": {
    "collapsed": false
   },
   "outputs": [
    {
     "name": "stdout",
     "output_type": "stream",
     "text": [
      "4\n"
     ]
    }
   ],
   "source": [
    "count = 0\n",
    "for perc in ws_percs:\n",
    "    if perc > .3:\n",
    "        count += 1\n",
    "        \n",
    "print(count)"
   ]
  }
 ],
 "metadata": {
  "anaconda-cloud": {},
  "kernelspec": {
   "display_name": "Python [conda env:venv]",
   "language": "python",
   "name": "conda-env-venv-py"
  },
  "language_info": {
   "codemirror_mode": {
    "name": "ipython",
    "version": 3
   },
   "file_extension": ".py",
   "mimetype": "text/x-python",
   "name": "python",
   "nbconvert_exporter": "python",
   "pygments_lexer": "ipython3",
   "version": "3.5.2"
  }
 },
 "nbformat": 4,
 "nbformat_minor": 1
}
